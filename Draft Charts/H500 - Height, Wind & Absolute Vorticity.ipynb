{
 "cells": [
  {
   "cell_type": "code",
   "execution_count": 11,
   "metadata": {},
   "outputs": [],
   "source": [
    "import cartopy.crs as ccrs\n",
    "import cartopy.feature as cfeature\n",
    "import matplotlib.pyplot as plt\n",
    "import metpy.calc as mpcalc\n",
    "from metpy.units import units\n",
    "import numpy as np \n",
    "import xarray as xr \n",
    "import netCDF4"
   ]
  },
  {
   "cell_type": "code",
   "execution_count": 5,
   "metadata": {},
   "outputs": [],
   "source": [
    "## Function to Compute Earth-Relative Winds\n",
    "\n",
    "def earth_relative_wind_components(ugrd, vgrd):\n",
    "    if 'crs' not in list(ugrd.coords):\n",
    "        raise ValueError('No CRS in coordinate, be sure to use the MetPy accessor parse_cf()')\n",
    "\n",
    "    data_crs = ugrd.metpy.cartopy_crs\n",
    "\n",
    "    x = ugrd.x.values\n",
    "    y = ugrd.y.values\n",
    "\n",
    "    xx, yy = np.meshgrid(x, y)\n",
    "\n",
    "    ut, vt = ccrs.PlateCarree().transform_vectors(data_crs, xx, yy, ugrd.values, vgrd.values)\n",
    "\n",
    "    uer = ut * units(ugrd.units)\n",
    "    ver = vt * units(vgrd.units)\n",
    "\n",
    "    return uer, ver"
   ]
  },
  {
   "cell_type": "code",
   "execution_count": 12,
   "metadata": {},
   "outputs": [],
   "source": [
    "## Open Data Set\n",
    "\n",
    "\n",
    "ds = xr.open_dataset('https://thredds.ucar.edu/thredds/dodsC/casestudies/'\n",
    "                     'python-gallery/NAM_20161031_1200.nc').metpy.parse_cf()"
   ]
  },
  {
   "cell_type": "code",
   "execution_count": 17,
   "metadata": {},
   "outputs": [],
   "source": [
    "#Retrieving the Data\n",
    "\n",
    "lats = ds.lat.data\n",
    "lons = ds.lon.data\n",
    "\n",
    "x = ds['u-component_of_wind_isobaric'].x\n",
    "y = ds['u-component_of_wind_isobaric'].y\n",
    "\n",
    "xx, yy = np.meshgrid(x, y)\n",
    "\n",
    "datacrs = ds['u-component_of_wind_isobaric'].metpy.cartopy_crs\n",
    "\n",
    "level = 500 * units.hPa \n",
    "hght_500 = mpcalc.smooth_n_point(ds.Geopotential_height_isobaric.metpy.sel(vertical=level).squeeze(), 9, 50)\n",
    "\n",
    "uwnd_500 = ds['u-component_of_wind_isobaric'].metpy.sel(vertical=level).squeeze()\n",
    "vwnd_500 = ds['v-component_of_wind_isobaric'].metpy.sel(vertical=level).squeeze()\n",
    "\n",
    "uwnd_er, vwnd_er = earth_relative_wind_components(uwnd_500, vwnd_500)\n",
    "\n",
    "uwnd_er = mpcalc.smooth_n_point(uwnd_er, 9, 50)\n",
    "vwnd_er = mpcalc.smooth_n_point(vwnd_er, 9, 50)\n",
    "\n",
    "vtime = ds.time.data[0].astype('datetime64[ms]').astype('O')"
   ]
  },
  {
   "cell_type": "code",
   "execution_count": 18,
   "metadata": {},
   "outputs": [],
   "source": [
    "#MetPy Absolute Vorticity Calculation\n",
    "\n",
    "dx, dy = mpcalc.lat_lon_grid_deltas(lons, lats)\n",
    "\n",
    "avor_500 = mpcalc.absolute_vorticity(uwnd_er, vwnd_er, dx, dy, lats * units.degrees, dim_order='yx')"
   ]
  },
  {
   "cell_type": "code",
   "execution_count": 19,
   "metadata": {},
   "outputs": [
    {
     "output_type": "display_data",
     "data": {
      "text/plain": "<Figure size 1008x864 with 1 Axes>",
      "image/svg+xml": "<?xml version=\"1.0\" encoding=\"utf-8\" standalone=\"no\"?>\n<!DOCTYPE svg PUBLIC \"-//W3C//DTD SVG 1.1//EN\"\n  \"http://www.w3.org/Graphics/SVG/1.1/DTD/svg11.dtd\">\n<!-- Created with matplotlib (https://matplotlib.org/) -->\n<svg height=\"532.835431pt\" version=\"1.1\" viewBox=\"0 0 795.6 532.835431\" width=\"795.6pt\" xmlns=\"http://www.w3.org/2000/svg\" xmlns:xlink=\"http://www.w3.org/1999/xlink\">\n <metadata>\n  <rdf:RDF xmlns:cc=\"http://creativecommons.org/ns#\" xmlns:dc=\"http://purl.org/dc/elements/1.1/\" xmlns:rdf=\"http://www.w3.org/1999/02/22-rdf-syntax-ns#\">\n   <cc:Work>\n    <dc:type rdf:resource=\"http://purl.org/dc/dcmitype/StillImage\"/>\n    <dc:date>2020-12-12T23:53:12.305302</dc:date>\n    <dc:format>image/svg+xml</dc:format>\n    <dc:creator>\n     <cc:Agent>\n      <dc:title>Matplotlib v3.3.3, https://matplotlib.org/</dc:title>\n     </cc:Agent>\n    </dc:creator>\n   </cc:Work>\n  </rdf:RDF>\n </metadata>\n <defs>\n  <style type=\"text/css\">*{stroke-linecap:butt;stroke-linejoin:round;}</style>\n </defs>\n <g id=\"figure_1\">\n  <g id=\"patch_1\">\n   <path d=\"M 0 532.835431 \nL 795.6 532.835431 \nL 795.6 0 \nL 0 0 \nz\n\" style=\"fill:none;\"/>\n  </g>\n  <g id=\"axes_1\">\n   <g id=\"patch_2\">\n    <path d=\"M 788.4 7.2 \nL 788.4 525.635431 \nL 7.2 525.635431 \nL 7.2 7.2 \nL 788.4 7.2 \n\" style=\"fill:#ffffff;\"/>\n   </g>\n   <g id=\"patch_3\">\n    <path d=\"M 788.4 7.2 \nL 788.4 525.635431 \nL 7.2 525.635431 \nL 7.2 7.2 \nL 788.4 7.2 \n\" style=\"fill:none;stroke:#000000;stroke-linejoin:miter;stroke-width:0.8;\"/>\n   </g>\n  </g>\n </g>\n</svg>\n",
      "image/png": "[encoded data removed]"
     },
     "metadata": {
      "needs_background": "light"
     }
    }
   ],
   "source": [
    "#Creating the Map\n",
    "\n",
    "mapcrs = ccrs.LambertConformal(central_longitude=-100, central_latitude=35, standard_parallels=(30,60))\n",
    "\n",
    "datacrs = ccrs.PlateCarree()\n",
    "\n",
    "fig = plt.figure(1, figsize=(14,12))\n",
    "ax = plt.subplot(111, projection=mapcrs)\n",
    "ax.set_extent([-130, -72, 20, 55], ccrs.PlateCarree())\n",
    "\n"
   ]
  },
  {
   "cell_type": "code",
   "execution_count": null,
   "metadata": {},
   "outputs": [],
   "source": []
  }
 ],
 "metadata": {
  "kernelspec": {
   "name": "python3",
   "display_name": "Python 3.7.9 64-bit ('meteorologyEnvironment': conda)",
   "metadata": {
    "interpreter": {
     "hash": "b9cff6d979bacd1c3cfb2c1d7a17bd51940b5c400a6e833f8cd5fad562ff282c"
    }
   }
  }
 },
 "nbformat": 4,
 "nbformat_minor": 4
}