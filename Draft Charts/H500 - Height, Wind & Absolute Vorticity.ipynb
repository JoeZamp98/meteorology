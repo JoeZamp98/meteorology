{
 "cells": [
  {
   "cell_type": "code",
   "execution_count": 11,
   "metadata": {},
   "outputs": [],
   "source": [
    "import cartopy.crs as ccrs\n",
    "import cartopy.feature as cfeature\n",
    "import matplotlib.pyplot as plt\n",
    "import metpy.calc as mpcalc\n",
    "from metpy.units import units\n",
    "import numpy as np \n",
    "import xarray as xr \n",
    "import netCDF4"
   ]
  },
  {
   "cell_type": "code",
   "execution_count": 5,
   "metadata": {},
   "outputs": [],
   "source": [
    "## Function to Compute Earth-Relative Winds\n",
    "\n",
    "def earth_relative_wind_components(ugrd, vgrd):\n",
    "    if 'crs' not in list(ugrd.coords):\n",
    "        raise ValueError('No CRS in coordinate, be sure to use the MetPy accessor parse_cf()')\n",
    "\n",
    "    data_crs = ugrd.metpy.cartopy_crs\n",
    "\n",
    "    x = ugrd.x.values\n",
    "    y = ugrd.y.values\n",
    "\n",
    "    xx, yy = np.meshgrid(x, y)\n",
    "\n",
    "    ut, vt = ccrs.PlateCarree().transform_vectors(data_crs, xx, yy, ugrd.values, vgrd.values)\n",
    "\n",
    "    uer = ut * units(ugrd.units)\n",
    "    ver = vt * units(vgrd.units)\n",
    "\n",
    "    return uer, ver"
   ]
  },
  {
   "cell_type": "code",
   "execution_count": 12,
   "metadata": {},
   "outputs": [],
   "source": [
    "## Open Data Set\n",
    "\n",
    "\n",
    "ds = xr.open_dataset('https://thredds.ucar.edu/thredds/dodsC/casestudies/'\n",
    "                     'python-gallery/NAM_20161031_1200.nc').metpy.parse_cf()"
   ]
  },
  {
   "cell_type": "code",
   "execution_count": null,
   "metadata": {},
   "outputs": [],
   "source": [
    "#Retrieving the Data\n",
    "\n",
    "lats = ds.lat.data\n",
    "lons = ds.lon.data\n",
    "\n",
    "x = ds['u-component_of_wind_isobaric'].x\n",
    "y = ds['u-component_of_wind_isobaric'].y\n",
    "\n",
    "xx, yy = np.meshgrid(x, y)\n",
    "\n",
    "datacrs = ds['u-component_of_wind_isobaric'].metpy.cartopy_crs\n",
    "\n",
    "level = 500 * units.hPa \n",
    "hght_500 = mpcalc.smooth_n_point(ds.Geopotential_height_isobaric.metpy.sel(vertical=level).squeeze(), 9, 50)\n",
    "\n",
    "uwnd_500 = ds['u-component_of_wind_isobaric'].metpy.sel(vertical=level).squeeze()\n",
    "vwnd_500 = ds['v-component_of_wind_isobaric'].metpy.sel(vertical=level).squeeze()\n",
    "\n"
   ]
  }
 ],
 "metadata": {
  "kernelspec": {
   "name": "python3",
   "display_name": "Python 3.7.9 64-bit ('meteorologyEnvironment': conda)",
   "metadata": {
    "interpreter": {
     "hash": "b9cff6d979bacd1c3cfb2c1d7a17bd51940b5c400a6e833f8cd5fad562ff282c"
    }
   }
  }
 },
 "nbformat": 4,
 "nbformat_minor": 4
}